{
  "nbformat": 4,
  "nbformat_minor": 0,
  "metadata": {
    "colab": {
      "name": "Untitled4.ipynb",
      "provenance": [],
      "authorship_tag": "ABX9TyP27dPA1F2Hv6jLSz8zP3X+",
      "include_colab_link": true
    },
    "kernelspec": {
      "name": "python3",
      "display_name": "Python 3"
    },
    "language_info": {
      "name": "python"
    }
  },
  "cells": [
    {
      "cell_type": "markdown",
      "metadata": {
        "id": "view-in-github",
        "colab_type": "text"
      },
      "source": [
        "<a href=\"https://colab.research.google.com/github/Miguelzan/Automatiza-um-sistema-com-python/blob/main/Automotiza%C3%A7%C3%A3o1.ipynb\" target=\"_parent\"><img src=\"https://colab.research.google.com/assets/colab-badge.svg\" alt=\"Open In Colab\"/></a>"
      ]
    },
    {
      "cell_type": "code",
      "source": [
        "!pip install pyautogui\n",
        "\n",
        "import pyautogui\n",
        "import time\n",
        "\n",
        "pyautogui.alert(\"O código vai começar. Não use nada do seu computador enquanto o código está rodando\")\n",
        "pyautogui.PAUSE = 0.5\n",
        "# abrir o google drive no meu computador\n",
        "pyautogui.press('winleft')\n",
        "pyautogui.write('chrome')\n",
        "pyautogui.press('enter')\n",
        "time.sleep(1)\n",
        "pyautogui.write(\"https://drive.google.com/drive/my-drive\")\n",
        "pyautogui.press('enter')\n",
        "\n",
        "# entrar na minha área de trabalho\n",
        "pyautogui.hotkey('winleft', 'd')\n",
        "# cliquei no arquivo que eu quero fazer backup e arrastei ele\n",
        "pyautogui.moveTo(3704, 98)\n",
        "pyautogui.mouseDown()\n",
        "pyautogui.moveTo(2318, 1413)\n",
        "\n",
        "# enquanto eu to arrastando, eu vou mudar para o google drive\n",
        "pyautogui.hotkey('alt', 'tab')\n",
        "time.sleep(1)\n",
        "# larguei o arquivo no google drive\n",
        "pyautogui.mouseUp()\n",
        "\n",
        "# esperar 5 segundos\n",
        "time.sleep(5)\n",
        "\n",
        "pyautogui.alert(\"O código acabou de rodar. Pode usar o seu computador de novo\")"
      ],
      "metadata": {
        "id": "X252knq-noKw"
      },
      "execution_count": null,
      "outputs": []
    },
    {
      "cell_type": "code",
      "source": [
        "pyautogui.position()"
      ],
      "metadata": {
        "id": "4jTouOfPnpcY"
      },
      "execution_count": null,
      "outputs": []
    }
  ]
}